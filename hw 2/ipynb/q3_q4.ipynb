{
  "nbformat": 4,
  "nbformat_minor": 0,
  "metadata": {
    "colab": {
      "provenance": []
    },
    "kernelspec": {
      "name": "python3",
      "display_name": "Python 3"
    },
    "language_info": {
      "name": "python"
    }
  },
  "cells": [
    {
      "cell_type": "code",
      "execution_count": null,
      "metadata": {
        "colab": {
          "base_uri": "https://localhost:8080/"
        },
        "id": "Y3kTrCfa5Z-W",
        "outputId": "9b1a866d-5c7f-49bd-fd81-f3f4b5c0139f"
      },
      "outputs": [
        {
          "output_type": "stream",
          "name": "stdout",
          "text": [
            "Mounted at /content/drive\n"
          ]
        }
      ],
      "source": [
        "from google.colab import drive\n",
        "drive.mount('/content/drive')"
      ]
    },
    {
      "cell_type": "code",
      "source": [
        "#Importing necessary libraries\n",
        "import numpy as np\n",
        "import pandas as pd\n",
        "import matplotlib.pyplot as plt\n",
        "from sklearn.tree import DecisionTreeClassifier\n",
        "from sklearn.model_selection import train_test_split\n",
        "from scipy.interpolate import lagrange\n",
        "from numpy.polynomial.polynomial import Polynomial\n",
        "from sklearn.metrics import mean_absolute_error"
      ],
      "metadata": {
        "id": "FaJSlNEo5fke"
      },
      "execution_count": null,
      "outputs": []
    },
    {
      "cell_type": "markdown",
      "source": [
        "## Question 3: Sklearn"
      ],
      "metadata": {
        "id": "sjO0GmNFMRE2"
      }
    },
    {
      "cell_type": "code",
      "source": [
        "#Load data function used from the previous question\n",
        "def load_data(filename_with_path):\n",
        "  '''\n",
        "    Load input and label data from a file.\n",
        "\n",
        "    Args:\n",
        "        filename_with_path (str): The full path and name of the data file.\n",
        "\n",
        "    Returns:\n",
        "        tuple: Two numpy arrays containing the input features (X) and labels (Y).\n",
        "  '''\n",
        "  \n",
        "  df=pd.read_csv(filename_with_path,delimiter=' ',header=None).to_numpy()\n",
        "  X=df[:,:2] #All data files in this assignment have two features\n",
        "  Y=df[:,2]\n",
        "\n",
        "  return X,Y"
      ],
      "metadata": {
        "id": "CnGzC9Lf6SkX"
      },
      "execution_count": null,
      "outputs": []
    },
    {
      "cell_type": "code",
      "source": [
        "X,Y=load_data('/content/drive/MyDrive/ECE:760/hw 2/data/Dbig.txt')"
      ],
      "metadata": {
        "id": "Fsd4vPXE7Dkm"
      },
      "execution_count": null,
      "outputs": []
    },
    {
      "cell_type": "code",
      "source": [
        "#Generating splits of data (D32, D128, D512, D2048, D8192)\n",
        "X_8192,X_test,Y_8192,Y_test=train_test_split(X,Y,train_size=8192,stratify=Y)"
      ],
      "metadata": {
        "id": "GKoqaQAm7Nar"
      },
      "execution_count": null,
      "outputs": []
    },
    {
      "cell_type": "code",
      "source": [
        "X_32,Y_32=X_8192[:32,:],Y_8192[:32]\n",
        "X_128,Y_128=X_8192[:128,:],Y_8192[:128]\n",
        "X_512,Y_512=X_8192[:512,:],Y_8192[:512]\n",
        "X_2048,Y_2048=X_8192[:2048,:],Y_8192[:2048]"
      ],
      "metadata": {
        "id": "p_Bxrpcz8WV8"
      },
      "execution_count": null,
      "outputs": []
    },
    {
      "cell_type": "code",
      "source": [
        "#The task here is to train a DT model on each of these splits \n",
        "#and test them on X_test, Y_test to see if the test performance eventually improves\n",
        "\n",
        "#Training and testing model on each of the splits and storing the performance in a dictionary\n",
        "X_splits={\"32\":X_32,\n",
        "          \"128\":X_128,\n",
        "          \"512\":X_512,\n",
        "          \"2048\":X_2048,\n",
        "          \"8192\":X_8192\n",
        "}\n",
        "Y_splits={\"32\":Y_32,\n",
        "          \"128\":Y_128,\n",
        "          \"512\":Y_512,\n",
        "          \"2048\":Y_2048,\n",
        "          \"8192\":Y_8192\n",
        "}\n",
        "\n",
        "errors={}\n",
        "num_nodes={}\n",
        "\n",
        "for size in X_splits:\n",
        "  clf=DecisionTreeClassifier(criterion='entropy')\n",
        "  clf.fit(X_splits[size],Y_splits[size])\n",
        "  errors[size]=1- clf.score(X_test,Y_test)\n",
        "  num_nodes[size]=clf.tree_.node_count"
      ],
      "metadata": {
        "id": "EyMH2cCq9AdJ"
      },
      "execution_count": null,
      "outputs": []
    },
    {
      "cell_type": "code",
      "source": [
        "errors"
      ],
      "metadata": {
        "colab": {
          "base_uri": "https://localhost:8080/"
        },
        "id": "5PqOXiPGAIp8",
        "outputId": "3b31669c-c40b-4346-a64b-9e7cb533ac75"
      },
      "execution_count": null,
      "outputs": [
        {
          "output_type": "execute_result",
          "data": {
            "text/plain": [
              "{'32': 0.271570796460177,\n",
              " '128': 0.07300884955752207,\n",
              " '512': 0.0497787610619469,\n",
              " '2048': 0.03761061946902655,\n",
              " '8192': 0.020464601769911495}"
            ]
          },
          "metadata": {},
          "execution_count": 54
        }
      ]
    },
    {
      "cell_type": "code",
      "source": [
        "num_nodes"
      ],
      "metadata": {
        "colab": {
          "base_uri": "https://localhost:8080/"
        },
        "id": "I9m1zXKlDGXZ",
        "outputId": "792028e3-f097-4acb-fe8f-259eadca9392"
      },
      "execution_count": null,
      "outputs": [
        {
          "output_type": "execute_result",
          "data": {
            "text/plain": [
              "{'32': 5, '128': 27, '512': 53, '2048': 91, '8192': 227}"
            ]
          },
          "metadata": {},
          "execution_count": 55
        }
      ]
    },
    {
      "cell_type": "code",
      "source": [
        "#plotting the graph n vs error\n",
        "plt.title('Number of Nodes vs Test Error Plot')\n",
        "plt.xlabel('Number of nodes')\n",
        "plt.ylabel('Test Error')\n",
        "\n",
        "node_list=[num_nodes[i] for i in num_nodes]\n",
        "error_list=[errors[i] for i in errors]\n",
        "plt.plot(node_list,error_list)\n",
        "\n",
        "for i, size in enumerate(num_nodes):\n",
        "  plt.annotate(\"D_\"+size,(node_list[i],error_list[i]),xytext=(node_list[i]-11.5,error_list[i]-0.015))\n",
        "\n",
        "plt.savefig('/content/drive/MyDrive/ECE:760/hw 2/out_figs/q3_errorVsnode.png')"
      ],
      "metadata": {
        "colab": {
          "base_uri": "https://localhost:8080/",
          "height": 295
        },
        "id": "hCHq2GzYDTgH",
        "outputId": "b8775764-adcb-474b-8649-5f48333978c2"
      },
      "execution_count": null,
      "outputs": [
        {
          "output_type": "display_data",
          "data": {
            "text/plain": [
              "<Figure size 432x288 with 1 Axes>"
            ],
            "image/png": "[encoded data removed]"
          },
          "metadata": {
            "needs_background": "light"
          }
        }
      ]
    },
    {
      "cell_type": "code",
      "source": [],
      "metadata": {
        "id": "u1JPjhmZHn7z"
      },
      "execution_count": null,
      "outputs": []
    },
    {
      "cell_type": "markdown",
      "source": [
        "## Question 4: Lagrange Interpolation"
      ],
      "metadata": {
        "id": "PBSpDuodMUXt"
      }
    },
    {
      "cell_type": "code",
      "source": [
        "#Let a=0, b=Pi\n",
        "\n",
        "a=0\n",
        "b=np.pi\n",
        "\n",
        "#Generating 120 points randomly from [a,b] and getting storing their sine values in 'y'\n",
        "x=np.random.uniform(low=a,high=b,size=120)\n",
        "y=np.sin(x)\n",
        "\n",
        "#Splitting (x,y) into (x_train,y_train) and  (x_test,y_test). These form the initial training and the testing sets respectively\n",
        "x_train,x_test,y_train,y_test=train_test_split(x,y,test_size=20,shuffle=True)"
      ],
      "metadata": {
        "id": "0KqTmbmsMX7O"
      },
      "execution_count": null,
      "outputs": []
    },
    {
      "cell_type": "code",
      "source": [
        "print(x_train.shape,x_test.shape,y_train.shape,y_test.shape)"
      ],
      "metadata": {
        "colab": {
          "base_uri": "https://localhost:8080/"
        },
        "id": "6kQKB90nTs3a",
        "outputId": "bce1a267-beb1-469b-f3b8-ee4bcf4921b2"
      },
      "execution_count": null,
      "outputs": [
        {
          "output_type": "stream",
          "name": "stdout",
          "text": [
            "(100,) (20,) (100,) (20,)\n"
          ]
        }
      ]
    },
    {
      "cell_type": "code",
      "source": [
        "#Let's build the lagrange polynomial approximation for the sine distribution using x_train,y_train\n",
        "\n",
        "poly=lagrange(x_train,y_train)"
      ],
      "metadata": {
        "id": "RVJX67w2UMvd"
      },
      "execution_count": null,
      "outputs": []
    },
    {
      "cell_type": "code",
      "source": [
        "#Let's calculate the predictions on the train and test data\n",
        "y_pred_train=Polynomial(poly.coef[::-1])(x_train)\n",
        "y_pred_test=Polynomial(poly.coef[::-1])(x_test)"
      ],
      "metadata": {
        "id": "PjVul9WVWH0I"
      },
      "execution_count": null,
      "outputs": []
    },
    {
      "cell_type": "code",
      "source": [
        "#Mean-Absolute error on the train set\n",
        "print(f\"The mean absolute error on the train set is:{mean_absolute_error(y_train,y_pred_train)}\")\n",
        "#Mean-Absolute error on the test set\n",
        "print(f\"The mean absolute error on the test set is:{mean_absolute_error(y_test,y_pred_test)}\")"
      ],
      "metadata": {
        "colab": {
          "base_uri": "https://localhost:8080/"
        },
        "id": "upcFkVAGY0DA",
        "outputId": "51125968-164f-4291-aa50-442efac529f9"
      },
      "execution_count": null,
      "outputs": [
        {
          "output_type": "stream",
          "name": "stdout",
          "text": [
            "The mean absolute error on the train set is:5.766064785905992e+67\n",
            "The mean absolute error on the test set is:1.463716495501398e+68\n"
          ]
        }
      ]
    },
    {
      "cell_type": "code",
      "source": [
        "y_train[0]"
      ],
      "metadata": {
        "colab": {
          "base_uri": "https://localhost:8080/"
        },
        "id": "2ek_cML4ZkJF",
        "outputId": "d85ea966-5595-4e55-c716-46bfd92abe94"
      },
      "execution_count": null,
      "outputs": [
        {
          "output_type": "execute_result",
          "data": {
            "text/plain": [
              "0.7894833055828325"
            ]
          },
          "metadata": {},
          "execution_count": 119
        }
      ]
    },
    {
      "cell_type": "code",
      "source": [
        "y_pred_train[0]"
      ],
      "metadata": {
        "colab": {
          "base_uri": "https://localhost:8080/"
        },
        "id": "i7KXuBNQZryq",
        "outputId": "f3ab63c6-de33-4f74-c3b6-6e3e027ceca0"
      },
      "execution_count": null,
      "outputs": [
        {
          "output_type": "execute_result",
          "data": {
            "text/plain": [
              "-1.642617331865108e+67"
            ]
          },
          "metadata": {},
          "execution_count": 120
        }
      ]
    },
    {
      "cell_type": "markdown",
      "source": [
        "Noticing a vey-high MAE when using 100 points."
      ],
      "metadata": {
        "id": "PtEOu-cvaeQN"
      }
    },
    {
      "cell_type": "markdown",
      "source": [
        "So, trying with a smaller train set (15 points) and a test set of 5 points"
      ],
      "metadata": {
        "id": "JWCH98yhaigT"
      }
    },
    {
      "cell_type": "code",
      "source": [
        "#Generating 20 points randomly from [a,b] and getting storing their sine values in 'y'\n",
        "x=np.random.uniform(low=a,high=b,size=20)\n",
        "y=np.sin(x)\n",
        "\n",
        "#Splitting (x,y) into (x_train,y_train) and  (x_test,y_test). These form the initial training and the testing sets respectively\n",
        "x_train,x_test,y_train,y_test=train_test_split(x,y,test_size=5,shuffle=True)"
      ],
      "metadata": {
        "id": "2pgRh-LUZuOO"
      },
      "execution_count": null,
      "outputs": []
    },
    {
      "cell_type": "code",
      "source": [
        "print(x_train.shape,x_test.shape,y_train.shape,y_test.shape)"
      ],
      "metadata": {
        "colab": {
          "base_uri": "https://localhost:8080/"
        },
        "id": "oZzF6WQ9avfg",
        "outputId": "a9e2edc2-12b5-4725-ee9f-48f18dc887cb"
      },
      "execution_count": null,
      "outputs": [
        {
          "output_type": "stream",
          "name": "stdout",
          "text": [
            "(15,) (5,) (15,) (5,)\n"
          ]
        }
      ]
    },
    {
      "cell_type": "code",
      "source": [
        "#Let's build the lagrange polynomial approximation for the sine distribution using x_train,y_train\n",
        "\n",
        "poly=lagrange(x_train,y_train)"
      ],
      "metadata": {
        "id": "1XZDI7aUay0o"
      },
      "execution_count": null,
      "outputs": []
    },
    {
      "cell_type": "code",
      "source": [
        "#Let's calculate the predictions on the train and test data\n",
        "y_pred_train=Polynomial(poly.coef[::-1])(x_train)\n",
        "y_pred_test=Polynomial(poly.coef[::-1])(x_test)"
      ],
      "metadata": {
        "id": "5bBkkGhka1S-"
      },
      "execution_count": null,
      "outputs": []
    },
    {
      "cell_type": "code",
      "source": [
        "#Mean-Absolute error on the train set\n",
        "print(f\"The mean absolute error on the train set is:{mean_absolute_error(y_train,y_pred_train)}\")\n",
        "#Mean-Absolute error on the test set\n",
        "print(f\"The mean absolute error on the test set is:{mean_absolute_error(y_test,y_pred_test)}\")"
      ],
      "metadata": {
        "colab": {
          "base_uri": "https://localhost:8080/"
        },
        "id": "uncBjtFYa3CK",
        "outputId": "5d02ee8b-1351-4ef6-8ced-3a83d27bbc5f"
      },
      "execution_count": null,
      "outputs": [
        {
          "output_type": "stream",
          "name": "stdout",
          "text": [
            "The mean absolute error on the train set is:7.754835046246781e-05\n",
            "The mean absolute error on the test set is:6.44784521690478e-05\n"
          ]
        }
      ]
    },
    {
      "cell_type": "markdown",
      "source": [
        "We see that the MAE has reduced significantly when we take lesser number of points"
      ],
      "metadata": {
        "id": "gf9ZGYORbp1i"
      }
    },
    {
      "cell_type": "markdown",
      "source": [
        "Now, let's repeat the experiment with the same set of points, but with added zero-mean gaussian noise with different standard deviations"
      ],
      "metadata": {
        "id": "tqYZq_dOb0hi"
      }
    },
    {
      "cell_type": "code",
      "source": [
        "stddev=[np.pi * x for x in [ 0.125, 0.25, 0.5, 0.75,1]]\n",
        "\n",
        "for std in stddev:\n",
        "  print(f\"The standard deviation considered is:{std}\")\n",
        "\n",
        "  noise=np.random.normal(0,std,size=100) #Adding points to the training data\n",
        "  x_train_new=x_train+noise\n",
        "\n",
        "  poly=lagrange(x_train_new,y_train)\n",
        "  y_pred_train=Polynomial(poly.coef[::-1])(x_train)\n",
        "  y_pred_test=Polynomial(poly.coef[::-1])(x_test)\n",
        "\n",
        "  #Mean-Absolute error on the train set\n",
        "  print(f\"The mean absolute error on the train set is:{mean_absolute_error(y_train,y_pred_train)}\")\n",
        "  #Mean-Absolute error on the test set\n",
        "  print(f\"The mean absolute error on the test set is:{mean_absolute_error(y_test,y_pred_test)}\")"
      ],
      "metadata": {
        "colab": {
          "base_uri": "https://localhost:8080/"
        },
        "id": "AXH6aAWObvBC",
        "outputId": "ab4fb7f0-61d0-4e4c-8810-6c92221a86be"
      },
      "execution_count": null,
      "outputs": [
        {
          "output_type": "stream",
          "name": "stdout",
          "text": [
            "The standard deviation considered is:0.39269908169872414\n",
            "The mean absolute error on the train set is:3.661584146300432e+69\n",
            "The mean absolute error on the test set is:2.2564324196942475e+69\n",
            "The standard deviation considered is:0.7853981633974483\n",
            "The mean absolute error on the train set is:4.9115168111289655e+72\n",
            "The mean absolute error on the test set is:3.036625453439215e+72\n",
            "The standard deviation considered is:1.5707963267948966\n",
            "The mean absolute error on the train set is:5.677339148170936e+47\n",
            "The mean absolute error on the test set is:2.9233360288124813e+47\n",
            "The standard deviation considered is:2.356194490192345\n",
            "The mean absolute error on the train set is:2.8464381747818914e+31\n",
            "The mean absolute error on the test set is:1.4801507856690453e+31\n",
            "The standard deviation considered is:3.141592653589793\n",
            "The mean absolute error on the train set is:5765406851921.308\n",
            "The mean absolute error on the test set is:3121671279758.343\n"
          ]
        }
      ]
    },
    {
      "cell_type": "code",
      "source": [
        "x_train_new"
      ],
      "metadata": {
        "colab": {
          "base_uri": "https://localhost:8080/"
        },
        "id": "ctRb3Oq3dyrE",
        "outputId": "dfd653ba-b0ff-4160-eaf5-c7cf813df006"
      },
      "execution_count": null,
      "outputs": [
        {
          "output_type": "execute_result",
          "data": {
            "text/plain": [
              "array([ 5.74447191, -4.0654489 ,  5.62455426, -3.74366747,  5.96834915,\n",
              "       -3.34885912,  5.38272482,  4.32300125, -7.12878452, -0.14068383,\n",
              "        6.95515847,  6.6959526 ,  8.69713211, -3.55175839, -0.56025233,\n",
              "        5.31998026,  6.63174053,  3.17315555,  7.94899425,  5.25495317,\n",
              "       -2.24875607,  3.64647605,  0.46162824,  6.13512516,  3.06775346,\n",
              "       -0.714168  ,  6.99197327, -0.62967093,  3.3900375 , -0.05313432,\n",
              "        2.74762813,  6.55896097,  1.1212174 ,  0.73007843, -2.81944276,\n",
              "        5.29161211, -1.54297865,  7.387875  , -1.77718192, -5.29824963,\n",
              "        1.88049895,  1.11836912, -0.19790027,  5.20659687,  3.13801724,\n",
              "       -3.90285526,  1.79166111,  1.80194279,  0.74809843,  3.15641502,\n",
              "       -5.03073587, -0.78923642, -1.93293437,  4.04244043, -2.10698215,\n",
              "       -1.3501505 ,  1.92620024,  5.21588816, -2.80718289,  5.14310659,\n",
              "        0.14589822,  3.19032999, -3.80818644, -3.30119138, -3.38636967,\n",
              "        3.93645679,  4.58664006,  3.87588629, -0.94595382, -1.0967915 ,\n",
              "       -4.88601876, -1.5652142 , -0.43373683,  1.1631247 , -4.36366032,\n",
              "        3.999042  ,  2.04543201,  2.80484397,  0.63233885,  9.98587324,\n",
              "       -1.90540387,  2.17967144,  2.0737931 , -5.22810783,  3.73954944,\n",
              "       -0.38279683, -1.00990013, -0.17798013,  6.50146163, -6.37702373,\n",
              "        3.07849292, -2.36855464,  1.5196999 ,  4.76848315,  6.25440538,\n",
              "        2.7609965 ,  7.87350021, -2.99376751,  1.52626735,  7.93692836])"
            ]
          },
          "metadata": {},
          "execution_count": 164
        }
      ]
    },
    {
      "cell_type": "code",
      "source": [
        "x_train_new"
      ],
      "metadata": {
        "colab": {
          "base_uri": "https://localhost:8080/"
        },
        "id": "OGotRCXlftWq",
        "outputId": "d95321d9-ff24-4fa2-dbf9-5379f05c1fac"
      },
      "execution_count": null,
      "outputs": [
        {
          "output_type": "execute_result",
          "data": {
            "text/plain": [
              "array([ 1.20757547, -1.6014384 , -1.03137195, -0.31257759,  1.17626101,\n",
              "        7.45619448,  1.72641953,  0.28999263,  0.79144366,  2.01313594,\n",
              "       -0.08598493,  2.12927363,  2.71056117, -0.80000584,  3.54930254])"
            ]
          },
          "metadata": {},
          "execution_count": 149
        }
      ]
    },
    {
      "cell_type": "code",
      "source": [],
      "metadata": {
        "id": "Th_4soOif4aK"
      },
      "execution_count": null,
      "outputs": []
    }
  ]
}